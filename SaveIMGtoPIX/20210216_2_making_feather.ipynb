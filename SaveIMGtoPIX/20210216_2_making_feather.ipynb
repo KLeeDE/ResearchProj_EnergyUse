{
  "nbformat": 4,
  "nbformat_minor": 0,
  "metadata": {
    "colab": {
      "name": "2021.02.16_2_making_feather.ipynb",
      "provenance": [],
      "authorship_tag": "ABX9TyPej3JvlEaaxMZ12j9YjonY",
      "include_colab_link": true
    },
    "kernelspec": {
      "name": "python3",
      "display_name": "Python 3"
    }
  },
  "cells": [
    {
      "cell_type": "markdown",
      "metadata": {
        "id": "view-in-github",
        "colab_type": "text"
      },
      "source": [
        "<a href=\"https://colab.research.google.com/github/KLeeDE/ResearchProj_UrbanHeat/blob/master/SaveIMGtoPIX/20210216_2_making_feather.ipynb\" target=\"_parent\"><img src=\"https://colab.research.google.com/assets/colab-badge.svg\" alt=\"Open In Colab\"/></a>"
      ]
    },
    {
      "cell_type": "code",
      "metadata": {
        "id": "Abe0hg4LfTLN"
      },
      "source": [
        "import os\r\n",
        "import numpy as np\r\n",
        "import pandas as pd\r\n",
        "import glob"
      ],
      "execution_count": null,
      "outputs": []
    },
    {
      "cell_type": "code",
      "metadata": {
        "colab": {
          "base_uri": "https://localhost:8080/"
        },
        "id": "ZGHiduwxeGBM",
        "outputId": "dc19a99c-3b45-435a-9047-7715ba39ef33"
      },
      "source": [
        "from google.colab import drive\r\n",
        "drive.mount('/content/drive')"
      ],
      "execution_count": null,
      "outputs": [
        {
          "output_type": "stream",
          "text": [
            "Mounted at /content/drive\n"
          ],
          "name": "stdout"
        }
      ]
    },
    {
      "cell_type": "code",
      "metadata": {
        "id": "SmiQQNz-bbfl"
      },
      "source": [
        "# -- get the file list\r\n",
        "fname = \"file_paths_times.feather\"\r\n",
        "if os.path.isfile(fname):\r\n",
        "  print(\"reading {0}\".format(fname))\r\n",
        "  fpaths = pd.read_feather(fname)\r\n",
        "else:\r\n",
        "  print(\"{0} not found... creating\".format(fname))\r\n",
        "  fldrs = sorted([i for i in glob.glob(\"*-*\") if len(i) == 5])\r\n",
        "  # -- extract the time and convert to datetime\r\n",
        "  fmt = \"%Y-%m-%d %H-%M-%S.%f\"\r\n",
        "  flist = []\r\n",
        "  ftime = []\r\n",
        "  for fldr in fldrs:\r\n",
        "    print(\"\\rworking on {0}\".format(fldr), end=\"\")\r\n",
        "    tflist = sorted(glob.glob(os.path.join(fldr, \"*\")))\r\n",
        "    flist += tflist\r\n",
        "    ftime += [pd.to_datetime(i[11:-5].replace(\"T\", \" \"), format=fmt) for i in tflist]\r\n",
        "  # -- create pandas data frame\r\n",
        "  fpaths = pd.DataFrame()\r\n",
        "  fpaths[\"paths\"] = flist\r\n",
        "  fpaths[\"times\"] = ftime\r\n",
        "  # -- add numpy file names\r\n",
        "  nfile = int(np.ceil(len(fpaths) / 500))\r\n",
        "  fnames_npy = [jj for ii in range(nfile) for jj in \r\n",
        "                [\"singapore_ir_npy/singapore_ir_{0:06}_{1:06}.npy\" \\\r\n",
        "                 .format(ii * 500, (ii + 1) * 500)] * 500]\r\n",
        "  fpaths[\"fnames_npy\"] = fnames_npy[:len(fpaths)]\r\n",
        "  # -- write all paths to feather\r\n",
        "  fpaths.to_feather(\"file_paths_times.feather\")"
      ],
      "execution_count": null,
      "outputs": []
    }
  ]
}