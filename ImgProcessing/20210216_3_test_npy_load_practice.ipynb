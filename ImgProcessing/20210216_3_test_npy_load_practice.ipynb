{
  "nbformat": 4,
  "nbformat_minor": 0,
  "metadata": {
    "colab": {
      "name": "2021.02.16_3_test_npy_load_practice.ipynb",
      "provenance": [],
      "authorship_tag": "ABX9TyONkJpt+zeajXCER5ydn4sq",
      "include_colab_link": true
    },
    "kernelspec": {
      "name": "python3",
      "display_name": "Python 3"
    }
  },
  "cells": [
    {
      "cell_type": "markdown",
      "metadata": {
        "id": "view-in-github",
        "colab_type": "text"
      },
      "source": [
        "<a href=\"https://colab.research.google.com/github/KLeeDE/ResearchProj_UrbanHeat/blob/master/ImgProcessing/20210216_3_test_npy_load_practice.ipynb\" target=\"_parent\"><img src=\"https://colab.research.google.com/assets/colab-badge.svg\" alt=\"Open In Colab\"/></a>"
      ]
    },
    {
      "cell_type": "code",
      "metadata": {
        "id": "qZauDdvGYZbZ"
      },
      "source": [
        "import numpy as np\r\n",
        "import pandas as pd\r\n",
        "import matplotlib.pyplot as plt"
      ],
      "execution_count": null,
      "outputs": []
    },
    {
      "cell_type": "code",
      "metadata": {
        "colab": {
          "base_uri": "https://localhost:8080/"
        },
        "id": "Gqyte2CIYbsZ",
        "outputId": "0ae5efc7-39db-47cd-9e03-1881468703ca"
      },
      "source": [
        "from google.colab import drive\r\n",
        "drive.mount('/content/drive')"
      ],
      "execution_count": null,
      "outputs": [
        {
          "output_type": "stream",
          "text": [
            "Drive already mounted at /content/drive; to attempt to forcibly remount, call drive.mount(\"/content/drive\", force_remount=True).\n"
          ],
          "name": "stdout"
        }
      ]
    },
    {
      "cell_type": "code",
      "metadata": {
        "colab": {
          "base_uri": "https://localhost:8080/",
          "height": 402
        },
        "id": "OUnqQYUIYbng",
        "outputId": "7544ac98-6620-4cfb-ae1f-794b041d3e9c"
      },
      "source": [
        "fpaths = pd.read_feather(\"/content/drive/MyDrive/urban_heat/output/file_paths_times.feather\")\r\n",
        "fpaths"
      ],
      "execution_count": null,
      "outputs": [
        {
          "output_type": "execute_result",
          "data": {
            "text/html": [
              "<div>\n",
              "<style scoped>\n",
              "    .dataframe tbody tr th:only-of-type {\n",
              "        vertical-align: middle;\n",
              "    }\n",
              "\n",
              "    .dataframe tbody tr th {\n",
              "        vertical-align: top;\n",
              "    }\n",
              "\n",
              "    .dataframe thead th {\n",
              "        text-align: right;\n",
              "    }\n",
              "</style>\n",
              "<table border=\"1\" class=\"dataframe\">\n",
              "  <thead>\n",
              "    <tr style=\"text-align: right;\">\n",
              "      <th></th>\n",
              "      <th>paths</th>\n",
              "      <th>times</th>\n",
              "      <th>fnames_npy</th>\n",
              "    </tr>\n",
              "  </thead>\n",
              "  <tbody>\n",
              "    <tr>\n",
              "      <th>0</th>\n",
              "      <td>01-24/snap-2020-01-24T00-00-07.45.jpeg</td>\n",
              "      <td>2020-01-24 00:00:07.450</td>\n",
              "      <td>singapore_ir_npy/singapore_ir_000000_000500.npy</td>\n",
              "    </tr>\n",
              "    <tr>\n",
              "      <th>1</th>\n",
              "      <td>01-24/snap-2020-01-24T00-00-17.50.jpeg</td>\n",
              "      <td>2020-01-24 00:00:17.500</td>\n",
              "      <td>singapore_ir_npy/singapore_ir_000000_000500.npy</td>\n",
              "    </tr>\n",
              "    <tr>\n",
              "      <th>2</th>\n",
              "      <td>01-24/snap-2020-01-24T00-00-27.53.jpeg</td>\n",
              "      <td>2020-01-24 00:00:27.530</td>\n",
              "      <td>singapore_ir_npy/singapore_ir_000000_000500.npy</td>\n",
              "    </tr>\n",
              "    <tr>\n",
              "      <th>3</th>\n",
              "      <td>01-24/snap-2020-01-24T00-00-37.57.jpeg</td>\n",
              "      <td>2020-01-24 00:00:37.570</td>\n",
              "      <td>singapore_ir_npy/singapore_ir_000000_000500.npy</td>\n",
              "    </tr>\n",
              "    <tr>\n",
              "      <th>4</th>\n",
              "      <td>01-24/snap-2020-01-24T00-00-47.61.jpeg</td>\n",
              "      <td>2020-01-24 00:00:47.610</td>\n",
              "      <td>singapore_ir_npy/singapore_ir_000000_000500.npy</td>\n",
              "    </tr>\n",
              "    <tr>\n",
              "      <th>...</th>\n",
              "      <td>...</td>\n",
              "      <td>...</td>\n",
              "      <td>...</td>\n",
              "    </tr>\n",
              "    <tr>\n",
              "      <th>414748</th>\n",
              "      <td>03-15/snap-2020-03-15T23-59-11.49.jpeg</td>\n",
              "      <td>2020-03-15 23:59:11.490</td>\n",
              "      <td>singapore_ir_npy/singapore_ir_414500_415000.npy</td>\n",
              "    </tr>\n",
              "    <tr>\n",
              "      <th>414749</th>\n",
              "      <td>03-15/snap-2020-03-15T23-59-21.52.jpeg</td>\n",
              "      <td>2020-03-15 23:59:21.520</td>\n",
              "      <td>singapore_ir_npy/singapore_ir_414500_415000.npy</td>\n",
              "    </tr>\n",
              "    <tr>\n",
              "      <th>414750</th>\n",
              "      <td>03-15/snap-2020-03-15T23-59-31.56.jpeg</td>\n",
              "      <td>2020-03-15 23:59:31.560</td>\n",
              "      <td>singapore_ir_npy/singapore_ir_414500_415000.npy</td>\n",
              "    </tr>\n",
              "    <tr>\n",
              "      <th>414751</th>\n",
              "      <td>03-15/snap-2020-03-15T23-59-41.61.jpeg</td>\n",
              "      <td>2020-03-15 23:59:41.610</td>\n",
              "      <td>singapore_ir_npy/singapore_ir_414500_415000.npy</td>\n",
              "    </tr>\n",
              "    <tr>\n",
              "      <th>414752</th>\n",
              "      <td>03-15/snap-2020-03-15T23-59-51.65.jpeg</td>\n",
              "      <td>2020-03-15 23:59:51.650</td>\n",
              "      <td>singapore_ir_npy/singapore_ir_414500_415000.npy</td>\n",
              "    </tr>\n",
              "  </tbody>\n",
              "</table>\n",
              "<p>414753 rows × 3 columns</p>\n",
              "</div>"
            ],
            "text/plain": [
              "                                         paths  ...                                       fnames_npy\n",
              "0       01-24/snap-2020-01-24T00-00-07.45.jpeg  ...  singapore_ir_npy/singapore_ir_000000_000500.npy\n",
              "1       01-24/snap-2020-01-24T00-00-17.50.jpeg  ...  singapore_ir_npy/singapore_ir_000000_000500.npy\n",
              "2       01-24/snap-2020-01-24T00-00-27.53.jpeg  ...  singapore_ir_npy/singapore_ir_000000_000500.npy\n",
              "3       01-24/snap-2020-01-24T00-00-37.57.jpeg  ...  singapore_ir_npy/singapore_ir_000000_000500.npy\n",
              "4       01-24/snap-2020-01-24T00-00-47.61.jpeg  ...  singapore_ir_npy/singapore_ir_000000_000500.npy\n",
              "...                                        ...  ...                                              ...\n",
              "414748  03-15/snap-2020-03-15T23-59-11.49.jpeg  ...  singapore_ir_npy/singapore_ir_414500_415000.npy\n",
              "414749  03-15/snap-2020-03-15T23-59-21.52.jpeg  ...  singapore_ir_npy/singapore_ir_414500_415000.npy\n",
              "414750  03-15/snap-2020-03-15T23-59-31.56.jpeg  ...  singapore_ir_npy/singapore_ir_414500_415000.npy\n",
              "414751  03-15/snap-2020-03-15T23-59-41.61.jpeg  ...  singapore_ir_npy/singapore_ir_414500_415000.npy\n",
              "414752  03-15/snap-2020-03-15T23-59-51.65.jpeg  ...  singapore_ir_npy/singapore_ir_414500_415000.npy\n",
              "\n",
              "[414753 rows x 3 columns]"
            ]
          },
          "metadata": {
            "tags": []
          },
          "execution_count": 67
        }
      ]
    },
    {
      "cell_type": "code",
      "metadata": {
        "colab": {
          "base_uri": "https://localhost:8080/"
        },
        "id": "ZWGmODB9Ybk_",
        "outputId": "30908a13-f8d1-40e0-c305-afc3ebf40654"
      },
      "source": [
        "fpaths.times[:300000]"
      ],
      "execution_count": null,
      "outputs": [
        {
          "output_type": "execute_result",
          "data": {
            "text/plain": [
              "0        2020-01-24 00:00:07.450\n",
              "1        2020-01-24 00:00:17.500\n",
              "2        2020-01-24 00:00:27.530\n",
              "3        2020-01-24 00:00:37.570\n",
              "4        2020-01-24 00:00:47.610\n",
              "                   ...          \n",
              "299995   2020-03-02 10:02:24.860\n",
              "299996   2020-03-02 10:02:34.910\n",
              "299997   2020-03-02 10:02:44.960\n",
              "299998   2020-03-02 10:02:54.990\n",
              "299999   2020-03-02 10:03:05.030\n",
              "Name: times, Length: 300000, dtype: datetime64[ns]"
            ]
          },
          "metadata": {
            "tags": []
          },
          "execution_count": 68
        }
      ]
    },
    {
      "cell_type": "code",
      "metadata": {
        "colab": {
          "base_uri": "https://localhost:8080/",
          "height": 325
        },
        "id": "ApLA5b5hYbiD",
        "outputId": "c7ef068d-aa3a-45ee-da69-fe4d1c4ff7bf"
      },
      "source": [
        "plt.figure(figsize=(20,5))\r\n",
        "plt.plot(fpaths.times[:500], np.ones(500), \".\", markersize=1)"
      ],
      "execution_count": null,
      "outputs": [
        {
          "output_type": "execute_result",
          "data": {
            "text/plain": [
              "[<matplotlib.lines.Line2D at 0x7fce83865a20>]"
            ]
          },
          "metadata": {
            "tags": []
          },
          "execution_count": 69
        },
        {
          "output_type": "display_data",
          "data": {
            "image/png": "[encoded data removed]",
            "text/plain": [
              "<Figure size 1440x360 with 1 Axes>"
            ]
          },
          "metadata": {
            "tags": [],
            "needs_background": "light"
          }
        }
      ]
    },
    {
      "cell_type": "code",
      "metadata": {
        "id": "5xi1zNhkYbee"
      },
      "source": [
        "# set start and end time\r\n",
        "st = \"2020-01-25 19:00:00\"\r\n",
        "en = \"2020-01-26 04:00:00\""
      ],
      "execution_count": null,
      "outputs": []
    },
    {
      "cell_type": "code",
      "metadata": {
        "colab": {
          "base_uri": "https://localhost:8080/",
          "height": 402
        },
        "id": "bS3ks1X-Zwtj",
        "outputId": "6eb3af17-3801-44b8-ac0e-091d250a16c4"
      },
      "source": [
        "fpaths[(fpaths.times >= st) & (fpaths.times < en)]"
      ],
      "execution_count": null,
      "outputs": [
        {
          "output_type": "execute_result",
          "data": {
            "text/html": [
              "<div>\n",
              "<style scoped>\n",
              "    .dataframe tbody tr th:only-of-type {\n",
              "        vertical-align: middle;\n",
              "    }\n",
              "\n",
              "    .dataframe tbody tr th {\n",
              "        vertical-align: top;\n",
              "    }\n",
              "\n",
              "    .dataframe thead th {\n",
              "        text-align: right;\n",
              "    }\n",
              "</style>\n",
              "<table border=\"1\" class=\"dataframe\">\n",
              "  <thead>\n",
              "    <tr style=\"text-align: right;\">\n",
              "      <th></th>\n",
              "      <th>paths</th>\n",
              "      <th>times</th>\n",
              "      <th>fnames_npy</th>\n",
              "    </tr>\n",
              "  </thead>\n",
              "  <tbody>\n",
              "    <tr>\n",
              "      <th>15418</th>\n",
              "      <td>01-25/snap-2020-01-25T19-00-08.61.jpeg</td>\n",
              "      <td>2020-01-25 19:00:08.610</td>\n",
              "      <td>singapore_ir_npy/singapore_ir_015000_015500.npy</td>\n",
              "    </tr>\n",
              "    <tr>\n",
              "      <th>15419</th>\n",
              "      <td>01-25/snap-2020-01-25T19-00-18.66.jpeg</td>\n",
              "      <td>2020-01-25 19:00:18.660</td>\n",
              "      <td>singapore_ir_npy/singapore_ir_015000_015500.npy</td>\n",
              "    </tr>\n",
              "    <tr>\n",
              "      <th>15420</th>\n",
              "      <td>01-25/snap-2020-01-25T19-00-28.69.jpeg</td>\n",
              "      <td>2020-01-25 19:00:28.690</td>\n",
              "      <td>singapore_ir_npy/singapore_ir_015000_015500.npy</td>\n",
              "    </tr>\n",
              "    <tr>\n",
              "      <th>15421</th>\n",
              "      <td>01-25/snap-2020-01-25T19-00-38.74.jpeg</td>\n",
              "      <td>2020-01-25 19:00:38.740</td>\n",
              "      <td>singapore_ir_npy/singapore_ir_015000_015500.npy</td>\n",
              "    </tr>\n",
              "    <tr>\n",
              "      <th>15422</th>\n",
              "      <td>01-25/snap-2020-01-25T19-00-48.78.jpeg</td>\n",
              "      <td>2020-01-25 19:00:48.780</td>\n",
              "      <td>singapore_ir_npy/singapore_ir_015000_015500.npy</td>\n",
              "    </tr>\n",
              "    <tr>\n",
              "      <th>...</th>\n",
              "      <td>...</td>\n",
              "      <td>...</td>\n",
              "      <td>...</td>\n",
              "    </tr>\n",
              "    <tr>\n",
              "      <th>18638</th>\n",
              "      <td>01-26/snap-2020-01-26T03-59-11.28.jpeg</td>\n",
              "      <td>2020-01-26 03:59:11.280</td>\n",
              "      <td>singapore_ir_npy/singapore_ir_018500_019000.npy</td>\n",
              "    </tr>\n",
              "    <tr>\n",
              "      <th>18639</th>\n",
              "      <td>01-26/snap-2020-01-26T03-59-21.32.jpeg</td>\n",
              "      <td>2020-01-26 03:59:21.320</td>\n",
              "      <td>singapore_ir_npy/singapore_ir_018500_019000.npy</td>\n",
              "    </tr>\n",
              "    <tr>\n",
              "      <th>18640</th>\n",
              "      <td>01-26/snap-2020-01-26T03-59-31.36.jpeg</td>\n",
              "      <td>2020-01-26 03:59:31.360</td>\n",
              "      <td>singapore_ir_npy/singapore_ir_018500_019000.npy</td>\n",
              "    </tr>\n",
              "    <tr>\n",
              "      <th>18641</th>\n",
              "      <td>01-26/snap-2020-01-26T03-59-41.41.jpeg</td>\n",
              "      <td>2020-01-26 03:59:41.410</td>\n",
              "      <td>singapore_ir_npy/singapore_ir_018500_019000.npy</td>\n",
              "    </tr>\n",
              "    <tr>\n",
              "      <th>18642</th>\n",
              "      <td>01-26/snap-2020-01-26T03-59-51.45.jpeg</td>\n",
              "      <td>2020-01-26 03:59:51.450</td>\n",
              "      <td>singapore_ir_npy/singapore_ir_018500_019000.npy</td>\n",
              "    </tr>\n",
              "  </tbody>\n",
              "</table>\n",
              "<p>3225 rows × 3 columns</p>\n",
              "</div>"
            ],
            "text/plain": [
              "                                        paths  ...                                       fnames_npy\n",
              "15418  01-25/snap-2020-01-25T19-00-08.61.jpeg  ...  singapore_ir_npy/singapore_ir_015000_015500.npy\n",
              "15419  01-25/snap-2020-01-25T19-00-18.66.jpeg  ...  singapore_ir_npy/singapore_ir_015000_015500.npy\n",
              "15420  01-25/snap-2020-01-25T19-00-28.69.jpeg  ...  singapore_ir_npy/singapore_ir_015000_015500.npy\n",
              "15421  01-25/snap-2020-01-25T19-00-38.74.jpeg  ...  singapore_ir_npy/singapore_ir_015000_015500.npy\n",
              "15422  01-25/snap-2020-01-25T19-00-48.78.jpeg  ...  singapore_ir_npy/singapore_ir_015000_015500.npy\n",
              "...                                       ...  ...                                              ...\n",
              "18638  01-26/snap-2020-01-26T03-59-11.28.jpeg  ...  singapore_ir_npy/singapore_ir_018500_019000.npy\n",
              "18639  01-26/snap-2020-01-26T03-59-21.32.jpeg  ...  singapore_ir_npy/singapore_ir_018500_019000.npy\n",
              "18640  01-26/snap-2020-01-26T03-59-31.36.jpeg  ...  singapore_ir_npy/singapore_ir_018500_019000.npy\n",
              "18641  01-26/snap-2020-01-26T03-59-41.41.jpeg  ...  singapore_ir_npy/singapore_ir_018500_019000.npy\n",
              "18642  01-26/snap-2020-01-26T03-59-51.45.jpeg  ...  singapore_ir_npy/singapore_ir_018500_019000.npy\n",
              "\n",
              "[3225 rows x 3 columns]"
            ]
          },
          "metadata": {
            "tags": []
          },
          "execution_count": 71
        }
      ]
    },
    {
      "cell_type": "code",
      "metadata": {
        "id": "Hj9PoiP9Ybb1"
      },
      "source": [
        "# get the subset of the file paths dataframe that corresponds to those times\r\n",
        "fpaths_sub = fpaths[(fpaths.times >= st) & (fpaths.times < en)]"
      ],
      "execution_count": null,
      "outputs": []
    },
    {
      "cell_type": "code",
      "metadata": {
        "colab": {
          "base_uri": "https://localhost:8080/"
        },
        "id": "KmYz84Kcd1J3",
        "outputId": "8705b3ed-e8e8-4c1e-9ec7-6d6a253abc36"
      },
      "source": [
        "fpaths_sub.times"
      ],
      "execution_count": null,
      "outputs": [
        {
          "output_type": "execute_result",
          "data": {
            "text/plain": [
              "15418   2020-01-25 19:00:08.610\n",
              "15419   2020-01-25 19:00:18.660\n",
              "15420   2020-01-25 19:00:28.690\n",
              "15421   2020-01-25 19:00:38.740\n",
              "15422   2020-01-25 19:00:48.780\n",
              "                  ...          \n",
              "18638   2020-01-26 03:59:11.280\n",
              "18639   2020-01-26 03:59:21.320\n",
              "18640   2020-01-26 03:59:31.360\n",
              "18641   2020-01-26 03:59:41.410\n",
              "18642   2020-01-26 03:59:51.450\n",
              "Name: times, Length: 3225, dtype: datetime64[ns]"
            ]
          },
          "metadata": {
            "tags": []
          },
          "execution_count": 73
        }
      ]
    },
    {
      "cell_type": "code",
      "metadata": {
        "colab": {
          "base_uri": "https://localhost:8080/"
        },
        "id": "AGNa4H97Ziex",
        "outputId": "1a21e1d9-221b-4da7-eea7-e5e704bfbd45"
      },
      "source": [
        "fpaths_sub.times.values"
      ],
      "execution_count": null,
      "outputs": [
        {
          "output_type": "execute_result",
          "data": {
            "text/plain": [
              "array(['2020-01-25T19:00:08.610000000', '2020-01-25T19:00:18.660000000',\n",
              "       '2020-01-25T19:00:28.690000000', ...,\n",
              "       '2020-01-26T03:59:31.360000000', '2020-01-26T03:59:41.410000000',\n",
              "       '2020-01-26T03:59:51.450000000'], dtype='datetime64[ns]')"
            ]
          },
          "metadata": {
            "tags": []
          },
          "execution_count": 74
        }
      ]
    },
    {
      "cell_type": "code",
      "metadata": {
        "colab": {
          "base_uri": "https://localhost:8080/"
        },
        "id": "tckXExIJZibm",
        "outputId": "f1459a15-1555-4efd-bdaa-eec7e1a89563"
      },
      "source": [
        "fpaths_sub.fnames_npy"
      ],
      "execution_count": null,
      "outputs": [
        {
          "output_type": "execute_result",
          "data": {
            "text/plain": [
              "15418    singapore_ir_npy/singapore_ir_015000_015500.npy\n",
              "15419    singapore_ir_npy/singapore_ir_015000_015500.npy\n",
              "15420    singapore_ir_npy/singapore_ir_015000_015500.npy\n",
              "15421    singapore_ir_npy/singapore_ir_015000_015500.npy\n",
              "15422    singapore_ir_npy/singapore_ir_015000_015500.npy\n",
              "                              ...                       \n",
              "18638    singapore_ir_npy/singapore_ir_018500_019000.npy\n",
              "18639    singapore_ir_npy/singapore_ir_018500_019000.npy\n",
              "18640    singapore_ir_npy/singapore_ir_018500_019000.npy\n",
              "18641    singapore_ir_npy/singapore_ir_018500_019000.npy\n",
              "18642    singapore_ir_npy/singapore_ir_018500_019000.npy\n",
              "Name: fnames_npy, Length: 3225, dtype: object"
            ]
          },
          "metadata": {
            "tags": []
          },
          "execution_count": 75
        }
      ]
    },
    {
      "cell_type": "code",
      "metadata": {
        "colab": {
          "base_uri": "https://localhost:8080/"
        },
        "id": "14tPQIYiZiXc",
        "outputId": "57783699-6dbe-497b-d0ec-3b5ee10127b5"
      },
      "source": [
        "np.unique(fpaths_sub.fnames_npy)"
      ],
      "execution_count": null,
      "outputs": [
        {
          "output_type": "execute_result",
          "data": {
            "text/plain": [
              "array(['singapore_ir_npy/singapore_ir_015000_015500.npy',\n",
              "       'singapore_ir_npy/singapore_ir_015500_016000.npy',\n",
              "       'singapore_ir_npy/singapore_ir_016000_016500.npy',\n",
              "       'singapore_ir_npy/singapore_ir_016500_017000.npy',\n",
              "       'singapore_ir_npy/singapore_ir_017000_017500.npy',\n",
              "       'singapore_ir_npy/singapore_ir_017500_018000.npy',\n",
              "       'singapore_ir_npy/singapore_ir_018000_018500.npy',\n",
              "       'singapore_ir_npy/singapore_ir_018500_019000.npy'], dtype=object)"
            ]
          },
          "metadata": {
            "tags": []
          },
          "execution_count": 76
        }
      ]
    },
    {
      "cell_type": "code",
      "metadata": {
        "id": "vq51byVoZiUm"
      },
      "source": [
        "fnames_npy = np.unique(fpaths_sub.fnames_npy)"
      ],
      "execution_count": null,
      "outputs": []
    },
    {
      "cell_type": "code",
      "metadata": {
        "id": "-8Jb65iOZiRg"
      },
      "source": [
        "imgs = []"
      ],
      "execution_count": null,
      "outputs": []
    },
    {
      "cell_type": "code",
      "metadata": {
        "colab": {
          "base_uri": "https://localhost:8080/"
        },
        "id": "JY5neTV0ZiNY",
        "outputId": "d2439745-db0f-4c67-ec1d-a5ff11003c21"
      },
      "source": [
        "for ii, fname in enumerate(fnames_npy):\r\n",
        "  print(\"reading file {0} ({1} of {2})\".format(fname, ii +1, len(fnames_npy)))"
      ],
      "execution_count": null,
      "outputs": [
        {
          "output_type": "stream",
          "text": [
            "reading file singapore_ir_npy/singapore_ir_015000_015500.npy (1 of 8)\n",
            "reading file singapore_ir_npy/singapore_ir_015500_016000.npy (2 of 8)\n",
            "reading file singapore_ir_npy/singapore_ir_016000_016500.npy (3 of 8)\n",
            "reading file singapore_ir_npy/singapore_ir_016500_017000.npy (4 of 8)\n",
            "reading file singapore_ir_npy/singapore_ir_017000_017500.npy (5 of 8)\n",
            "reading file singapore_ir_npy/singapore_ir_017500_018000.npy (6 of 8)\n",
            "reading file singapore_ir_npy/singapore_ir_018000_018500.npy (7 of 8)\n",
            "reading file singapore_ir_npy/singapore_ir_018500_019000.npy (8 of 8)\n"
          ],
          "name": "stdout"
        }
      ]
    },
    {
      "cell_type": "code",
      "metadata": {
        "colab": {
          "base_uri": "https://localhost:8080/",
          "height": 35
        },
        "id": "coTMKkq3k8sk",
        "outputId": "522ae7b8-c097-466d-b2ed-178b989d7ff5"
      },
      "source": [
        "fname"
      ],
      "execution_count": null,
      "outputs": [
        {
          "output_type": "execute_result",
          "data": {
            "application/vnd.google.colaboratory.intrinsic+json": {
              "type": "string"
            },
            "text/plain": [
              "'singapore_ir_npy/singapore_ir_018500_019000.npy'"
            ]
          },
          "metadata": {
            "tags": []
          },
          "execution_count": 80
        }
      ]
    },
    {
      "cell_type": "code",
      "metadata": {
        "colab": {
          "base_uri": "https://localhost:8080/",
          "height": 402
        },
        "id": "wQIy2mf7ka8G",
        "outputId": "d4e6efa2-05d9-4a55-e83d-24f7f619ed78"
      },
      "source": [
        "fpaths_sub[fpaths_sub.fnames_npy == fname]"
      ],
      "execution_count": null,
      "outputs": [
        {
          "output_type": "execute_result",
          "data": {
            "text/html": [
              "<div>\n",
              "<style scoped>\n",
              "    .dataframe tbody tr th:only-of-type {\n",
              "        vertical-align: middle;\n",
              "    }\n",
              "\n",
              "    .dataframe tbody tr th {\n",
              "        vertical-align: top;\n",
              "    }\n",
              "\n",
              "    .dataframe thead th {\n",
              "        text-align: right;\n",
              "    }\n",
              "</style>\n",
              "<table border=\"1\" class=\"dataframe\">\n",
              "  <thead>\n",
              "    <tr style=\"text-align: right;\">\n",
              "      <th></th>\n",
              "      <th>paths</th>\n",
              "      <th>times</th>\n",
              "      <th>fnames_npy</th>\n",
              "    </tr>\n",
              "  </thead>\n",
              "  <tbody>\n",
              "    <tr>\n",
              "      <th>18500</th>\n",
              "      <td>01-26/snap-2020-01-26T03-36-05.58.jpeg</td>\n",
              "      <td>2020-01-26 03:36:05.580</td>\n",
              "      <td>singapore_ir_npy/singapore_ir_018500_019000.npy</td>\n",
              "    </tr>\n",
              "    <tr>\n",
              "      <th>18501</th>\n",
              "      <td>01-26/snap-2020-01-26T03-36-15.62.jpeg</td>\n",
              "      <td>2020-01-26 03:36:15.620</td>\n",
              "      <td>singapore_ir_npy/singapore_ir_018500_019000.npy</td>\n",
              "    </tr>\n",
              "    <tr>\n",
              "      <th>18502</th>\n",
              "      <td>01-26/snap-2020-01-26T03-36-25.66.jpeg</td>\n",
              "      <td>2020-01-26 03:36:25.660</td>\n",
              "      <td>singapore_ir_npy/singapore_ir_018500_019000.npy</td>\n",
              "    </tr>\n",
              "    <tr>\n",
              "      <th>18503</th>\n",
              "      <td>01-26/snap-2020-01-26T03-36-35.70.jpeg</td>\n",
              "      <td>2020-01-26 03:36:35.700</td>\n",
              "      <td>singapore_ir_npy/singapore_ir_018500_019000.npy</td>\n",
              "    </tr>\n",
              "    <tr>\n",
              "      <th>18504</th>\n",
              "      <td>01-26/snap-2020-01-26T03-36-45.75.jpeg</td>\n",
              "      <td>2020-01-26 03:36:45.750</td>\n",
              "      <td>singapore_ir_npy/singapore_ir_018500_019000.npy</td>\n",
              "    </tr>\n",
              "    <tr>\n",
              "      <th>...</th>\n",
              "      <td>...</td>\n",
              "      <td>...</td>\n",
              "      <td>...</td>\n",
              "    </tr>\n",
              "    <tr>\n",
              "      <th>18638</th>\n",
              "      <td>01-26/snap-2020-01-26T03-59-11.28.jpeg</td>\n",
              "      <td>2020-01-26 03:59:11.280</td>\n",
              "      <td>singapore_ir_npy/singapore_ir_018500_019000.npy</td>\n",
              "    </tr>\n",
              "    <tr>\n",
              "      <th>18639</th>\n",
              "      <td>01-26/snap-2020-01-26T03-59-21.32.jpeg</td>\n",
              "      <td>2020-01-26 03:59:21.320</td>\n",
              "      <td>singapore_ir_npy/singapore_ir_018500_019000.npy</td>\n",
              "    </tr>\n",
              "    <tr>\n",
              "      <th>18640</th>\n",
              "      <td>01-26/snap-2020-01-26T03-59-31.36.jpeg</td>\n",
              "      <td>2020-01-26 03:59:31.360</td>\n",
              "      <td>singapore_ir_npy/singapore_ir_018500_019000.npy</td>\n",
              "    </tr>\n",
              "    <tr>\n",
              "      <th>18641</th>\n",
              "      <td>01-26/snap-2020-01-26T03-59-41.41.jpeg</td>\n",
              "      <td>2020-01-26 03:59:41.410</td>\n",
              "      <td>singapore_ir_npy/singapore_ir_018500_019000.npy</td>\n",
              "    </tr>\n",
              "    <tr>\n",
              "      <th>18642</th>\n",
              "      <td>01-26/snap-2020-01-26T03-59-51.45.jpeg</td>\n",
              "      <td>2020-01-26 03:59:51.450</td>\n",
              "      <td>singapore_ir_npy/singapore_ir_018500_019000.npy</td>\n",
              "    </tr>\n",
              "  </tbody>\n",
              "</table>\n",
              "<p>143 rows × 3 columns</p>\n",
              "</div>"
            ],
            "text/plain": [
              "                                        paths  ...                                       fnames_npy\n",
              "18500  01-26/snap-2020-01-26T03-36-05.58.jpeg  ...  singapore_ir_npy/singapore_ir_018500_019000.npy\n",
              "18501  01-26/snap-2020-01-26T03-36-15.62.jpeg  ...  singapore_ir_npy/singapore_ir_018500_019000.npy\n",
              "18502  01-26/snap-2020-01-26T03-36-25.66.jpeg  ...  singapore_ir_npy/singapore_ir_018500_019000.npy\n",
              "18503  01-26/snap-2020-01-26T03-36-35.70.jpeg  ...  singapore_ir_npy/singapore_ir_018500_019000.npy\n",
              "18504  01-26/snap-2020-01-26T03-36-45.75.jpeg  ...  singapore_ir_npy/singapore_ir_018500_019000.npy\n",
              "...                                       ...  ...                                              ...\n",
              "18638  01-26/snap-2020-01-26T03-59-11.28.jpeg  ...  singapore_ir_npy/singapore_ir_018500_019000.npy\n",
              "18639  01-26/snap-2020-01-26T03-59-21.32.jpeg  ...  singapore_ir_npy/singapore_ir_018500_019000.npy\n",
              "18640  01-26/snap-2020-01-26T03-59-31.36.jpeg  ...  singapore_ir_npy/singapore_ir_018500_019000.npy\n",
              "18641  01-26/snap-2020-01-26T03-59-41.41.jpeg  ...  singapore_ir_npy/singapore_ir_018500_019000.npy\n",
              "18642  01-26/snap-2020-01-26T03-59-51.45.jpeg  ...  singapore_ir_npy/singapore_ir_018500_019000.npy\n",
              "\n",
              "[143 rows x 3 columns]"
            ]
          },
          "metadata": {
            "tags": []
          },
          "execution_count": 81
        }
      ]
    },
    {
      "cell_type": "code",
      "metadata": {
        "colab": {
          "base_uri": "https://localhost:8080/"
        },
        "id": "D31rteQRkazc",
        "outputId": "634e6c1d-da40-4f2b-fe71-1319e66fbb13"
      },
      "source": [
        "fpaths_sub[fpaths_sub.fnames_npy == fname].index"
      ],
      "execution_count": null,
      "outputs": [
        {
          "output_type": "execute_result",
          "data": {
            "text/plain": [
              "Int64Index([18500, 18501, 18502, 18503, 18504, 18505, 18506, 18507, 18508,\n",
              "            18509,\n",
              "            ...\n",
              "            18633, 18634, 18635, 18636, 18637, 18638, 18639, 18640, 18641,\n",
              "            18642],\n",
              "           dtype='int64', length=143)"
            ]
          },
          "metadata": {
            "tags": []
          },
          "execution_count": 82
        }
      ]
    },
    {
      "cell_type": "code",
      "metadata": {
        "colab": {
          "base_uri": "https://localhost:8080/"
        },
        "id": "eNe51ihBeODN",
        "outputId": "ad6c52e3-cf82-4e12-a332-4ba2aaae72a6"
      },
      "source": [
        "fpaths_sub[fpaths_sub.fnames_npy == fname].index %500"
      ],
      "execution_count": null,
      "outputs": [
        {
          "output_type": "execute_result",
          "data": {
            "text/plain": [
              "Int64Index([  0,   1,   2,   3,   4,   5,   6,   7,   8,   9,\n",
              "            ...\n",
              "            133, 134, 135, 136, 137, 138, 139, 140, 141, 142],\n",
              "           dtype='int64', length=143)"
            ]
          },
          "metadata": {
            "tags": []
          },
          "execution_count": 83
        }
      ]
    },
    {
      "cell_type": "code",
      "metadata": {
        "id": "I02Y0Hl0eN8o"
      },
      "source": [
        "ind = fpaths_sub[fpaths_sub.fnames_npy == fname].index %500"
      ],
      "execution_count": null,
      "outputs": []
    },
    {
      "cell_type": "code",
      "metadata": {
        "colab": {
          "base_uri": "https://localhost:8080/",
          "height": 35
        },
        "id": "W0tet8vEoSYV",
        "outputId": "b4c5dc34-05c8-4e32-8fa9-341729e37e7a"
      },
      "source": [
        "fname"
      ],
      "execution_count": null,
      "outputs": [
        {
          "output_type": "execute_result",
          "data": {
            "application/vnd.google.colaboratory.intrinsic+json": {
              "type": "string"
            },
            "text/plain": [
              "'singapore_ir_npy/singapore_ir_018500_019000.npy'"
            ]
          },
          "metadata": {
            "tags": []
          },
          "execution_count": 85
        }
      ]
    },
    {
      "cell_type": "code",
      "metadata": {
        "colab": {
          "base_uri": "https://localhost:8080/"
        },
        "id": "4bx25wWheN5g",
        "outputId": "2cba152e-7484-44b4-cfa8-a874aa14b2e2"
      },
      "source": [
        "np.load(\"/content/drive/MyDrive/urban_heat/data/singapore_ir/\" + fname)"
      ],
      "execution_count": null,
      "outputs": [
        {
          "output_type": "execute_result",
          "data": {
            "text/plain": [
              "array([[[43, 46, 50, ..., 30, 28, 25],\n",
              "        [44, 46, 50, ..., 27, 26, 26],\n",
              "        [44, 47, 50, ..., 19, 22, 25],\n",
              "        ...,\n",
              "        [43, 42, 41, ..., 36, 30, 28],\n",
              "        [43, 42, 41, ..., 34, 30, 28],\n",
              "        [43, 42, 41, ..., 34, 30, 28]],\n",
              "\n",
              "       [[41, 45, 50, ..., 28, 28, 28],\n",
              "        [42, 46, 51, ..., 23, 23, 24],\n",
              "        [43, 47, 51, ..., 19, 20, 21],\n",
              "        ...,\n",
              "        [40, 43, 42, ..., 32, 29, 28],\n",
              "        [40, 43, 42, ..., 31, 28, 28],\n",
              "        [40, 43, 42, ..., 30, 27, 28]],\n",
              "\n",
              "       [[42, 46, 51, ..., 27, 26, 25],\n",
              "        [43, 47, 51, ..., 25, 25, 26],\n",
              "        [43, 47, 52, ..., 21, 23, 25],\n",
              "        ...,\n",
              "        [40, 43, 42, ..., 32, 27, 28],\n",
              "        [39, 42, 42, ..., 30, 26, 27],\n",
              "        [38, 41, 41, ..., 30, 25, 27]],\n",
              "\n",
              "       ...,\n",
              "\n",
              "       [[43, 47, 53, ..., 30, 29, 28],\n",
              "        [43, 48, 53, ..., 27, 27, 28],\n",
              "        [44, 48, 53, ..., 22, 23, 25],\n",
              "        ...,\n",
              "        [44, 44, 44, ..., 30, 25, 26],\n",
              "        [44, 44, 44, ..., 29, 25, 27],\n",
              "        [44, 44, 44, ..., 29, 25, 27]],\n",
              "\n",
              "       [[47, 49, 52, ..., 31, 32, 32],\n",
              "        [47, 49, 52, ..., 27, 27, 28],\n",
              "        [47, 49, 52, ..., 21, 23, 25],\n",
              "        ...,\n",
              "        [45, 45, 44, ..., 32, 27, 27],\n",
              "        [45, 45, 44, ..., 32, 27, 27],\n",
              "        [45, 45, 44, ..., 33, 28, 27]],\n",
              "\n",
              "       [[44, 48, 52, ..., 31, 32, 32],\n",
              "        [44, 48, 52, ..., 27, 27, 28],\n",
              "        [45, 48, 53, ..., 21, 23, 25],\n",
              "        ...,\n",
              "        [43, 43, 43, ..., 33, 29, 26],\n",
              "        [43, 43, 43, ..., 34, 29, 26],\n",
              "        [43, 43, 43, ..., 34, 29, 27]]], dtype=uint8)"
            ]
          },
          "metadata": {
            "tags": []
          },
          "execution_count": 86
        }
      ]
    },
    {
      "cell_type": "code",
      "metadata": {
        "colab": {
          "base_uri": "https://localhost:8080/"
        },
        "id": "EDPLAXXOpCY8",
        "outputId": "787bd892-655f-41bf-9369-1e2b7f824483"
      },
      "source": [
        "ind"
      ],
      "execution_count": null,
      "outputs": [
        {
          "output_type": "execute_result",
          "data": {
            "text/plain": [
              "Int64Index([  0,   1,   2,   3,   4,   5,   6,   7,   8,   9,\n",
              "            ...\n",
              "            133, 134, 135, 136, 137, 138, 139, 140, 141, 142],\n",
              "           dtype='int64', length=143)"
            ]
          },
          "metadata": {
            "tags": []
          },
          "execution_count": 87
        }
      ]
    },
    {
      "cell_type": "code",
      "metadata": {
        "colab": {
          "base_uri": "https://localhost:8080/"
        },
        "id": "JeywGUUbuVDp",
        "outputId": "4c11f70c-1956-42ff-8ae5-903559a91152"
      },
      "source": [
        "len(ind)"
      ],
      "execution_count": null,
      "outputs": [
        {
          "output_type": "execute_result",
          "data": {
            "text/plain": [
              "143"
            ]
          },
          "metadata": {
            "tags": []
          },
          "execution_count": 88
        }
      ]
    },
    {
      "cell_type": "code",
      "metadata": {
        "colab": {
          "base_uri": "https://localhost:8080/"
        },
        "id": "mwbOh0UmuSv2",
        "outputId": "d5908a9b-41ed-4d69-c5e1-f507c3afba1d"
      },
      "source": [
        "len(np.load(\"/content/drive/MyDrive/urban_heat/data/singapore_ir/\" + fname))"
      ],
      "execution_count": null,
      "outputs": [
        {
          "output_type": "execute_result",
          "data": {
            "text/plain": [
              "500"
            ]
          },
          "metadata": {
            "tags": []
          },
          "execution_count": 89
        }
      ]
    },
    {
      "cell_type": "code",
      "metadata": {
        "colab": {
          "base_uri": "https://localhost:8080/"
        },
        "id": "sqwJqOmfeN2m",
        "outputId": "006f2309-b308-49b9-f34d-8229b069c8a1"
      },
      "source": [
        "np.load(\"/content/drive/MyDrive/urban_heat/data/singapore_ir/\" + fname)[ind]"
      ],
      "execution_count": null,
      "outputs": [
        {
          "output_type": "execute_result",
          "data": {
            "text/plain": [
              "array([[[43, 46, 50, ..., 30, 28, 25],\n",
              "        [44, 46, 50, ..., 27, 26, 26],\n",
              "        [44, 47, 50, ..., 19, 22, 25],\n",
              "        ...,\n",
              "        [43, 42, 41, ..., 36, 30, 28],\n",
              "        [43, 42, 41, ..., 34, 30, 28],\n",
              "        [43, 42, 41, ..., 34, 30, 28]],\n",
              "\n",
              "       [[41, 45, 50, ..., 28, 28, 28],\n",
              "        [42, 46, 51, ..., 23, 23, 24],\n",
              "        [43, 47, 51, ..., 19, 20, 21],\n",
              "        ...,\n",
              "        [40, 43, 42, ..., 32, 29, 28],\n",
              "        [40, 43, 42, ..., 31, 28, 28],\n",
              "        [40, 43, 42, ..., 30, 27, 28]],\n",
              "\n",
              "       [[42, 46, 51, ..., 27, 26, 25],\n",
              "        [43, 47, 51, ..., 25, 25, 26],\n",
              "        [43, 47, 52, ..., 21, 23, 25],\n",
              "        ...,\n",
              "        [40, 43, 42, ..., 32, 27, 28],\n",
              "        [39, 42, 42, ..., 30, 26, 27],\n",
              "        [38, 41, 41, ..., 30, 25, 27]],\n",
              "\n",
              "       ...,\n",
              "\n",
              "       [[41, 45, 50, ..., 28, 27, 27],\n",
              "        [42, 46, 51, ..., 25, 25, 25],\n",
              "        [42, 46, 51, ..., 19, 20, 22],\n",
              "        ...,\n",
              "        [42, 42, 42, ..., 35, 29, 29],\n",
              "        [42, 42, 42, ..., 34, 29, 29],\n",
              "        [42, 42, 42, ..., 34, 29, 28]],\n",
              "\n",
              "       [[44, 48, 52, ..., 25, 25, 25],\n",
              "        [44, 48, 52, ..., 23, 24, 25],\n",
              "        [44, 48, 52, ..., 19, 21, 23],\n",
              "        ...,\n",
              "        [41, 41, 41, ..., 36, 31, 27],\n",
              "        [41, 41, 41, ..., 36, 30, 26],\n",
              "        [41, 41, 41, ..., 36, 30, 25]],\n",
              "\n",
              "       [[41, 45, 51, ..., 26, 25, 24],\n",
              "        [41, 45, 51, ..., 23, 23, 23],\n",
              "        [41, 45, 51, ..., 18, 19, 20],\n",
              "        ...,\n",
              "        [41, 41, 40, ..., 33, 28, 25],\n",
              "        [41, 41, 40, ..., 33, 28, 26],\n",
              "        [41, 41, 40, ..., 32, 28, 27]]], dtype=uint8)"
            ]
          },
          "metadata": {
            "tags": []
          },
          "execution_count": 90
        }
      ]
    },
    {
      "cell_type": "code",
      "metadata": {
        "id": "MkVmseKPeNzJ"
      },
      "source": [
        "imgs.append(np.load(\"/content/drive/MyDrive/urban_heat/data/singapore_ir/\" + fname)[ind])"
      ],
      "execution_count": null,
      "outputs": []
    },
    {
      "cell_type": "code",
      "metadata": {
        "colab": {
          "base_uri": "https://localhost:8080/"
        },
        "id": "dVcDZoKBeNwN",
        "outputId": "988b7b52-0f8e-4b0d-b539-43dcb94ff740"
      },
      "source": [
        "imgs = np.concatenate(imgs, axis=0)\r\n",
        "imgs"
      ],
      "execution_count": null,
      "outputs": [
        {
          "output_type": "execute_result",
          "data": {
            "text/plain": [
              "array([[[43, 46, 50, ..., 30, 28, 25],\n",
              "        [44, 46, 50, ..., 27, 26, 26],\n",
              "        [44, 47, 50, ..., 19, 22, 25],\n",
              "        ...,\n",
              "        [43, 42, 41, ..., 36, 30, 28],\n",
              "        [43, 42, 41, ..., 34, 30, 28],\n",
              "        [43, 42, 41, ..., 34, 30, 28]],\n",
              "\n",
              "       [[41, 45, 50, ..., 28, 28, 28],\n",
              "        [42, 46, 51, ..., 23, 23, 24],\n",
              "        [43, 47, 51, ..., 19, 20, 21],\n",
              "        ...,\n",
              "        [40, 43, 42, ..., 32, 29, 28],\n",
              "        [40, 43, 42, ..., 31, 28, 28],\n",
              "        [40, 43, 42, ..., 30, 27, 28]],\n",
              "\n",
              "       [[42, 46, 51, ..., 27, 26, 25],\n",
              "        [43, 47, 51, ..., 25, 25, 26],\n",
              "        [43, 47, 52, ..., 21, 23, 25],\n",
              "        ...,\n",
              "        [40, 43, 42, ..., 32, 27, 28],\n",
              "        [39, 42, 42, ..., 30, 26, 27],\n",
              "        [38, 41, 41, ..., 30, 25, 27]],\n",
              "\n",
              "       ...,\n",
              "\n",
              "       [[41, 45, 50, ..., 28, 27, 27],\n",
              "        [42, 46, 51, ..., 25, 25, 25],\n",
              "        [42, 46, 51, ..., 19, 20, 22],\n",
              "        ...,\n",
              "        [42, 42, 42, ..., 35, 29, 29],\n",
              "        [42, 42, 42, ..., 34, 29, 29],\n",
              "        [42, 42, 42, ..., 34, 29, 28]],\n",
              "\n",
              "       [[44, 48, 52, ..., 25, 25, 25],\n",
              "        [44, 48, 52, ..., 23, 24, 25],\n",
              "        [44, 48, 52, ..., 19, 21, 23],\n",
              "        ...,\n",
              "        [41, 41, 41, ..., 36, 31, 27],\n",
              "        [41, 41, 41, ..., 36, 30, 26],\n",
              "        [41, 41, 41, ..., 36, 30, 25]],\n",
              "\n",
              "       [[41, 45, 51, ..., 26, 25, 24],\n",
              "        [41, 45, 51, ..., 23, 23, 23],\n",
              "        [41, 45, 51, ..., 18, 19, 20],\n",
              "        ...,\n",
              "        [41, 41, 40, ..., 33, 28, 25],\n",
              "        [41, 41, 40, ..., 33, 28, 26],\n",
              "        [41, 41, 40, ..., 32, 28, 27]]], dtype=uint8)"
            ]
          },
          "metadata": {
            "tags": []
          },
          "execution_count": 92
        }
      ]
    },
    {
      "cell_type": "code",
      "metadata": {
        "colab": {
          "base_uri": "https://localhost:8080/"
        },
        "id": "Iz9kFQA5uqqU",
        "outputId": "ecbb0f8a-9710-43dd-9265-c80cfd3efe0c"
      },
      "source": [
        "imgs.shape"
      ],
      "execution_count": null,
      "outputs": [
        {
          "output_type": "execute_result",
          "data": {
            "text/plain": [
              "(143, 240, 320)"
            ]
          },
          "metadata": {
            "tags": []
          },
          "execution_count": 93
        }
      ]
    },
    {
      "cell_type": "code",
      "metadata": {
        "colab": {
          "base_uri": "https://localhost:8080/"
        },
        "id": "hO2Z-0t_uuhZ",
        "outputId": "9f58d4db-be09-4783-b68c-8de1abfd6483"
      },
      "source": [
        "times = fpaths_sub.times.values\r\n",
        "times"
      ],
      "execution_count": null,
      "outputs": [
        {
          "output_type": "execute_result",
          "data": {
            "text/plain": [
              "array(['2020-01-25T19:00:08.610000000', '2020-01-25T19:00:18.660000000',\n",
              "       '2020-01-25T19:00:28.690000000', ...,\n",
              "       '2020-01-26T03:59:31.360000000', '2020-01-26T03:59:41.410000000',\n",
              "       '2020-01-26T03:59:51.450000000'], dtype='datetime64[ns]')"
            ]
          },
          "metadata": {
            "tags": []
          },
          "execution_count": 94
        }
      ]
    },
    {
      "cell_type": "code",
      "metadata": {
        "colab": {
          "base_uri": "https://localhost:8080/",
          "height": 791
        },
        "id": "Fat2YAiuuudb",
        "outputId": "c93d3b23-3142-4a07-a88e-d2d68f4e8197"
      },
      "source": [
        "fig, ax = plt.subplots(figsize=(10,10))\r\n",
        "ax.imshow(imgs[2749], interpolation=\"nearest\")\r\n",
        "ax.set_title(times[2749], loc=\"left\")\r\n",
        "fig.show()"
      ],
      "execution_count": null,
      "outputs": [
        {
          "output_type": "error",
          "ename": "IndexError",
          "evalue": "ignored",
          "traceback": [
            "\u001b[0;31m---------------------------------------------------------------------------\u001b[0m",
            "\u001b[0;31mIndexError\u001b[0m                                Traceback (most recent call last)",
            "\u001b[0;32m<ipython-input-95-29f5aaf3ebbd>\u001b[0m in \u001b[0;36m<module>\u001b[0;34m()\u001b[0m\n\u001b[1;32m      1\u001b[0m \u001b[0mfig\u001b[0m\u001b[0;34m,\u001b[0m \u001b[0max\u001b[0m \u001b[0;34m=\u001b[0m \u001b[0mplt\u001b[0m\u001b[0;34m.\u001b[0m\u001b[0msubplots\u001b[0m\u001b[0;34m(\u001b[0m\u001b[0mfigsize\u001b[0m\u001b[0;34m=\u001b[0m\u001b[0;34m(\u001b[0m\u001b[0;36m10\u001b[0m\u001b[0;34m,\u001b[0m\u001b[0;36m10\u001b[0m\u001b[0;34m)\u001b[0m\u001b[0;34m)\u001b[0m\u001b[0;34m\u001b[0m\u001b[0;34m\u001b[0m\u001b[0m\n\u001b[0;32m----> 2\u001b[0;31m \u001b[0max\u001b[0m\u001b[0;34m.\u001b[0m\u001b[0mimshow\u001b[0m\u001b[0;34m(\u001b[0m\u001b[0mimgs\u001b[0m\u001b[0;34m[\u001b[0m\u001b[0;36m2749\u001b[0m\u001b[0;34m]\u001b[0m\u001b[0;34m,\u001b[0m \u001b[0minterpolation\u001b[0m\u001b[0;34m=\u001b[0m\u001b[0;34m\"nearest\"\u001b[0m\u001b[0;34m)\u001b[0m\u001b[0;34m\u001b[0m\u001b[0;34m\u001b[0m\u001b[0m\n\u001b[0m\u001b[1;32m      3\u001b[0m \u001b[0max\u001b[0m\u001b[0;34m.\u001b[0m\u001b[0mset_title\u001b[0m\u001b[0;34m(\u001b[0m\u001b[0mtimes\u001b[0m\u001b[0;34m[\u001b[0m\u001b[0;36m2749\u001b[0m\u001b[0;34m]\u001b[0m\u001b[0;34m,\u001b[0m \u001b[0mloc\u001b[0m\u001b[0;34m=\u001b[0m\u001b[0;34m\"left\"\u001b[0m\u001b[0;34m)\u001b[0m\u001b[0;34m\u001b[0m\u001b[0;34m\u001b[0m\u001b[0m\n\u001b[1;32m      4\u001b[0m \u001b[0mfig\u001b[0m\u001b[0;34m.\u001b[0m\u001b[0mshow\u001b[0m\u001b[0;34m(\u001b[0m\u001b[0;34m)\u001b[0m\u001b[0;34m\u001b[0m\u001b[0;34m\u001b[0m\u001b[0m\n",
            "\u001b[0;31mIndexError\u001b[0m: index 2749 is out of bounds for axis 0 with size 143"
          ]
        },
        {
          "output_type": "display_data",
          "data": {
            "image/png": "[encoded data removed]",
            "text/plain": [
              "<Figure size 720x720 with 1 Axes>"
            ]
          },
          "metadata": {
            "tags": [],
            "needs_background": "light"
          }
        }
      ]
    },
    {
      "cell_type": "code",
      "metadata": {
        "id": "09EeP_XiuuZs"
      },
      "source": [
        ""
      ],
      "execution_count": null,
      "outputs": []
    },
    {
      "cell_type": "code",
      "metadata": {
        "id": "oUp6ic55uuUw"
      },
      "source": [
        ""
      ],
      "execution_count": null,
      "outputs": []
    },
    {
      "cell_type": "code",
      "metadata": {
        "id": "WvG1fWqCuuLs"
      },
      "source": [
        ""
      ],
      "execution_count": null,
      "outputs": []
    },
    {
      "cell_type": "code",
      "metadata": {
        "id": "XpB_D3IzuuAg"
      },
      "source": [
        ""
      ],
      "execution_count": null,
      "outputs": []
    },
    {
      "cell_type": "code",
      "metadata": {
        "id": "nTc65zwqut7Y"
      },
      "source": [
        ""
      ],
      "execution_count": null,
      "outputs": []
    }
  ]
}